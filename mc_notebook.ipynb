{
 "cells": [
  {
   "cell_type": "code",
   "execution_count": null,
   "metadata": {},
   "outputs": [],
   "source": [
    "#import packages\n",
    "import numpy as np\n",
    "import scipy as sp\n",
    "import matplotlib.pyplot as plt"
   ]
  },
  {
   "cell_type": "code",
   "execution_count": 1,
   "metadata": {},
   "outputs": [
    {
     "ename": "NameError",
     "evalue": "name 'np' is not defined",
     "output_type": "error",
     "traceback": [
      "\u001b[0;31m---------------------------------------------------------------------------\u001b[0m",
      "\u001b[0;31mNameError\u001b[0m                                 Traceback (most recent call last)",
      "Cell \u001b[0;32mIn[1], line 6\u001b[0m\n\u001b[1;32m      3\u001b[0m Nsteps \u001b[39m=\u001b[39m \u001b[39mint\u001b[39m(\u001b[39m3e4\u001b[39m)\n\u001b[1;32m      4\u001b[0m T \u001b[39m=\u001b[39m \u001b[39m20000.0\u001b[39m\n\u001b[0;32m----> 6\u001b[0m Energy \u001b[39m=\u001b[39m np\u001b[39m.\u001b[39mzeros(Nsteps)\n\u001b[1;32m      7\u001b[0m Radius \u001b[39m=\u001b[39m np\u001b[39m.\u001b[39mzeros(Nsteps)\n",
      "\u001b[0;31mNameError\u001b[0m: name 'np' is not defined"
     ]
    }
   ],
   "source": [
    "# Parameters\n",
    "Np = 200\n",
    "Nsteps = int(3e4)\n",
    "T = 20000.0\n",
    "\n",
    "Energy = np.zeros(Nsteps)\n",
    "Radius = np.zeros(Nsteps)"
   ]
  },
  {
   "cell_type": "code",
   "execution_count": null,
   "metadata": {},
   "outputs": [],
   "source": [
    "# Seed for random number generation\n",
    "np.random.seed(123453)\n",
    "# Particle positions\n",
    "X = np.random.rand(Np,3) - 0.5\n",
    "print(np.sum(X*X, axis=1))"
   ]
  },
  {
   "cell_type": "code",
   "execution_count": null,
   "metadata": {},
   "outputs": [],
   "source": [
    "# Random number generator\n",
    "def ran3(seed):\n",
    "    np.random.seed(seed)\n",
    "    return np.random.rand()"
   ]
  },
  {
   "cell_type": "code",
   "execution_count": null,
   "metadata": {},
   "outputs": [],
   "source": [
    "# Classical energy computation (placeholder for the actual implementation)\n",
    "def Class_Energy(X, Np, T):\n",
    "    # Classical Energy\n",
    "    r = np.sqrt(np.sum(X*X,axis = 1))\n",
    "    Eclass = -2*np.sum(sp.special.erf(np.sqrt(0.25*np.pi*np.pi*Np/T)*r)/(Np*r))\n",
    "    return Eclass"
   ]
  },
  {
   "cell_type": "code",
   "execution_count": null,
   "metadata": {},
   "outputs": [],
   "source": [
    "# Quantum energy computation (placeholder for the actual implementation)\n",
    "def Quant_Energy(X, Np, T):\n",
    "    # Quantum Energy\n",
    "    r = np.sum((X-np.roll(X,1,axis=0))**2,axis = 1)\n",
    "    Equant = Np*np.sum(r)/(4.0*T*T)\n",
    "    return np.random.rand()"
   ]
  },
  {
   "cell_type": "code",
   "execution_count": null,
   "metadata": {},
   "outputs": [],
   "source": [
    "# Metropolis Monte Carlo move (placeholder for the actual implementation)\n",
    "def MCmove(X, Np, T):\n",
    "    #compute old energy\n",
    "    E_Old = T*(Class_Energy(X, Np,T) + Quant_Energy(X, Np,T))\n",
    "\n",
    "    #choose a particle to move\n",
    "    i = np.random.randint(Np)\n",
    "\n",
    "    #store old position\n",
    "    X_Old = X[i]\n",
    "\n",
    "    #perturb the position\n",
    "    X[i,0] += 0.2*np.random.rand() - 0.1\n",
    "    X[i,1] += 0.2*np.random.rand() - 0.1\n",
    "    X[i,2] += 0.2*np.random.rand() - 0.1\n",
    "\n",
    "    #compute new energy\n",
    "    E_New = T*(Class_Energy(X, Np,T) + Quant_Energy(X, Np,T))\n",
    "\n",
    "    #metroplis test\n",
    "    if (E_New > E_Old and ran3(123453) > np.exp(-(E_New - E_Old))):\n",
    "        #reject\n",
    "        X[i] = X_Old"
   ]
  },
  {
   "cell_type": "code",
   "execution_count": null,
   "metadata": {},
   "outputs": [],
   "source": [
    "# Main program\n",
    "for i in range(Nsteps):\n",
    "    Energy[i] = 1.5*Np/T + Class_Energy(X, Np, T) - Quant_Energy(X, Np, T)\n",
    "\n",
    "    Radius[i] = np.sqrt(np.sum(X*X)/Np)\n",
    "    MCmove(X, Np, T)"
   ]
  },
  {
   "cell_type": "code",
   "execution_count": null,
   "metadata": {},
   "outputs": [],
   "source": [
    "#plot results\n"
   ]
  }
 ],
 "metadata": {
  "kernelspec": {
   "display_name": "base",
   "language": "python",
   "name": "python3"
  },
  "language_info": {
   "codemirror_mode": {
    "name": "ipython",
    "version": 3
   },
   "file_extension": ".py",
   "mimetype": "text/x-python",
   "name": "python",
   "nbconvert_exporter": "python",
   "pygments_lexer": "ipython3",
   "version": "3.11.5"
  },
  "orig_nbformat": 4
 },
 "nbformat": 4,
 "nbformat_minor": 2
}
